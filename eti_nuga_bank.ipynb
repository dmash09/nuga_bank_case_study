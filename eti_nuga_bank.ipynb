{
 "cells": [
  {
   "cell_type": "markdown",
   "metadata": {},
   "source": [
    "### import necessary dependencies"
   ]
  },
  {
   "cell_type": "code",
   "execution_count": 1,
   "metadata": {},
   "outputs": [],
   "source": [
    "from pyspark.sql import SparkSession\n",
    "from pyspark.sql.functions import monotonically_increasing_id\n",
    "import pandas as pd\n",
    "from sqlalchemy import create_engine"
   ]
  },
  {
   "cell_type": "code",
   "execution_count": 2,
   "metadata": {},
   "outputs": [],
   "source": [
    "# initialize the spark session\n",
    "spark = SparkSession.builder.appName('NugaBankETL').getOrCreate()"
   ]
  },
  {
   "cell_type": "code",
   "execution_count": 3,
   "metadata": {},
   "outputs": [
    {
     "data": {
      "text/html": [
       "\n",
       "            <div>\n",
       "                <p><b>SparkSession - in-memory</b></p>\n",
       "                \n",
       "        <div>\n",
       "            <p><b>SparkContext</b></p>\n",
       "\n",
       "            <p><a href=\"http://192.168.0.96:4040\">Spark UI</a></p>\n",
       "\n",
       "            <dl>\n",
       "              <dt>Version</dt>\n",
       "                <dd><code>v3.5.5</code></dd>\n",
       "              <dt>Master</dt>\n",
       "                <dd><code>local[*]</code></dd>\n",
       "              <dt>AppName</dt>\n",
       "                <dd><code>NugaBankETL</code></dd>\n",
       "            </dl>\n",
       "        </div>\n",
       "        \n",
       "            </div>\n",
       "        "
      ],
      "text/plain": [
       "<pyspark.sql.session.SparkSession at 0x27f2bf115e0>"
      ]
     },
     "execution_count": 3,
     "metadata": {},
     "output_type": "execute_result"
    }
   ],
   "source": [
    "spark\n"
   ]
  },
  {
   "cell_type": "markdown",
   "metadata": {},
   "source": [
    "### DATA  EXTRACTION"
   ]
  },
  {
   "cell_type": "code",
   "execution_count": 4,
   "metadata": {},
   "outputs": [],
   "source": [
    "nuga_bank_df = spark.read.csv(r'dataset\\nuga_bank_transactions.csv',header=True,inferSchema=True)"
   ]
  },
  {
   "cell_type": "code",
   "execution_count": 5,
   "metadata": {},
   "outputs": [
    {
     "name": "stdout",
     "output_type": "stream",
     "text": [
      "+--------------------+------+----------------+--------------+--------------------+------------------+--------------+--------------------+--------------------+--------------------+--------------------+-------------------+------------------+--------------------+-------------+-------------+--------+-----+---------+--------------------+--------------------+------+--------------+\n",
      "|    Transaction_Date|Amount|Transaction_Type| Customer_Name|    Customer_Address|     Customer_City|Customer_State|    Customer_Country|             Company|           Job_Title|               Email|       Phone_Number|Credit_Card_Number|                IBAN|Currency_Code|Random_Number|Category|Group|Is_Active|        Last_Updated|         Description|Gender|Marital_Status|\n",
      "+--------------------+------+----------------+--------------+--------------------+------------------+--------------+--------------------+--------------------+--------------------+--------------------+-------------------+------------------+--------------------+-------------+-------------+--------+-----+---------+--------------------+--------------------+------+--------------+\n",
      "|2024-03-23 15:38:...| 34.76|      Withdrawal|    James Neal|54912 Holmes Lodg...| West Keithborough|       Florida|                Togo|Benson, Johnson a...|                NULL|                NULL|  493.720.6609x7545|  3592901394693441|GB98RBPP090285271...|          MAD|       3167.0|       C|    Z|       No|2020-06-20 03:04:...|Yeah food anythin...| Other|      Divorced|\n",
      "|2024-04-22 19:15:...|163.92|      Withdrawal|   Thomas Long| 1133 Collin Passage|        Joshuabury|   Connecticut|Lao People's Demo...|                NULL|   Food technologist|michellelynch@exa...|      (497)554-3317|              NULL|GB03KFZR339662263...|          VEF|       2122.0|       B|    Z|     NULL|2020-12-27 13:23:...|Teach edge make n...|Female|       Married|\n",
      "|2024-04-12 19:46:...|386.32|      Withdrawal|Ashley Shelton|5297 Johnson Port...|       North Maria|    New Jersey|              Bhutan|       Jones-Mueller|Database administ...| ljordan@example.org|      (534)769-3072|      675983949974|GB59QYRN446730519...|          COP|       7796.0|       C|    Z|       No|2020-01-24 01:23:...|Again line face c...| Other|          NULL|\n",
      "|2024-04-17 15:29:...|407.15|         Deposit| James Rosario|56955 Moore Glens...|North Michellefurt|    New Mexico|             Iceland|       Vargas-Harris|Horticultural the...|parkerjames@examp...|+1-447-900-1320x257|     4761202519057|GB74FTDO268299438...|          BWP|       6284.0|       C|    Z|      Yes|2023-09-27 03:01:...|     Bag my a drive.|  NULL|          NULL|\n",
      "|2024-02-10 01:51:...|161.31|         Deposit|Miguel Leonard|262 Beck Expressw...|              NULL| West Virginia|             Eritrea|Richardson, Gonza...|   Minerals surveyor| zweaver@example.net|               NULL|   213156729655186|GB94EWRN587847592...|          SOS|       9179.0|       C|    Y|       No|2022-01-22 19:08:...|Husband find ok w...|Female|       Married|\n",
      "+--------------------+------+----------------+--------------+--------------------+------------------+--------------+--------------------+--------------------+--------------------+--------------------+-------------------+------------------+--------------------+-------------+-------------+--------+-----+---------+--------------------+--------------------+------+--------------+\n",
      "only showing top 5 rows\n",
      "\n"
     ]
    }
   ],
   "source": [
    "nuga_bank_df.show(5)"
   ]
  },
  {
   "cell_type": "code",
   "execution_count": 6,
   "metadata": {},
   "outputs": [
    {
     "name": "stdout",
     "output_type": "stream",
     "text": [
      "root\n",
      " |-- Transaction_Date: timestamp (nullable = true)\n",
      " |-- Amount: double (nullable = true)\n",
      " |-- Transaction_Type: string (nullable = true)\n",
      " |-- Customer_Name: string (nullable = true)\n",
      " |-- Customer_Address: string (nullable = true)\n",
      " |-- Customer_City: string (nullable = true)\n",
      " |-- Customer_State: string (nullable = true)\n",
      " |-- Customer_Country: string (nullable = true)\n",
      " |-- Company: string (nullable = true)\n",
      " |-- Job_Title: string (nullable = true)\n",
      " |-- Email: string (nullable = true)\n",
      " |-- Phone_Number: string (nullable = true)\n",
      " |-- Credit_Card_Number: long (nullable = true)\n",
      " |-- IBAN: string (nullable = true)\n",
      " |-- Currency_Code: string (nullable = true)\n",
      " |-- Random_Number: double (nullable = true)\n",
      " |-- Category: string (nullable = true)\n",
      " |-- Group: string (nullable = true)\n",
      " |-- Is_Active: string (nullable = true)\n",
      " |-- Last_Updated: timestamp (nullable = true)\n",
      " |-- Description: string (nullable = true)\n",
      " |-- Gender: string (nullable = true)\n",
      " |-- Marital_Status: string (nullable = true)\n",
      "\n"
     ]
    }
   ],
   "source": [
    "nuga_bank_df.printSchema()"
   ]
  },
  {
   "cell_type": "code",
   "execution_count": 7,
   "metadata": {},
   "outputs": [
    {
     "data": {
      "text/plain": [
       "['Transaction_Date',\n",
       " 'Amount',\n",
       " 'Transaction_Type',\n",
       " 'Customer_Name',\n",
       " 'Customer_Address',\n",
       " 'Customer_City',\n",
       " 'Customer_State',\n",
       " 'Customer_Country',\n",
       " 'Company',\n",
       " 'Job_Title',\n",
       " 'Email',\n",
       " 'Phone_Number',\n",
       " 'Credit_Card_Number',\n",
       " 'IBAN',\n",
       " 'Currency_Code',\n",
       " 'Random_Number',\n",
       " 'Category',\n",
       " 'Group',\n",
       " 'Is_Active',\n",
       " 'Last_Updated',\n",
       " 'Description',\n",
       " 'Gender',\n",
       " 'Marital_Status']"
      ]
     },
     "execution_count": 7,
     "metadata": {},
     "output_type": "execute_result"
    }
   ],
   "source": [
    "#Data cleaning and transformation\n",
    "nuga_bank_df.columns\n"
   ]
  },
  {
   "cell_type": "code",
   "execution_count": 8,
   "metadata": {},
   "outputs": [
    {
     "data": {
      "text/plain": [
       "1000000"
      ]
     },
     "execution_count": 8,
     "metadata": {},
     "output_type": "execute_result"
    }
   ],
   "source": [
    "# no of rows\n",
    "num_rows = nuga_bank_df.count()\n",
    "num_rows"
   ]
  },
  {
   "cell_type": "code",
   "execution_count": 9,
   "metadata": {},
   "outputs": [
    {
     "data": {
      "text/plain": [
       "23"
      ]
     },
     "execution_count": 9,
     "metadata": {},
     "output_type": "execute_result"
    }
   ],
   "source": [
    "# num of columns\n",
    "num_columns = len(nuga_bank_df.columns)\n",
    "num_columns"
   ]
  },
  {
   "cell_type": "code",
   "execution_count": 10,
   "metadata": {},
   "outputs": [
    {
     "name": "stdout",
     "output_type": "stream",
     "text": [
      "Transaction_Date Nulls 0\n",
      "Amount Nulls 0\n",
      "Transaction_Type Nulls 0\n",
      "Customer_Name Nulls 100425\n",
      "Customer_Address Nulls 100087\n",
      "Customer_City Nulls 100034\n",
      "Customer_State Nulls 100009\n",
      "Customer_Country Nulls 100672\n",
      "Company Nulls 100295\n",
      "Job_Title Nulls 99924\n",
      "Email Nulls 100043\n",
      "Phone_Number Nulls 100524\n",
      "Credit_Card_Number Nulls 100085\n",
      "IBAN Nulls 100300\n",
      "Currency_Code Nulls 99342\n",
      "Random_Number Nulls 99913\n",
      "Category Nulls 100332\n",
      "Group Nulls 100209\n",
      "Is_Active Nulls 100259\n",
      "Last_Updated Nulls 100321\n",
      "Description Nulls 100403\n",
      "Gender Nulls 99767\n",
      "Marital_Status Nulls 99904\n"
     ]
    }
   ],
   "source": [
    "# check for null values\n",
    "for column in nuga_bank_df.columns:\n",
    "    print(column,'Nulls',nuga_bank_df.filter(nuga_bank_df[column].isNull()).count())"
   ]
  },
  {
   "cell_type": "code",
   "execution_count": 12,
   "metadata": {},
   "outputs": [],
   "source": [
    "# how to fill up missing value \n",
    "nuga_bank_df_clean = nuga_bank_df.fillna({\n",
    "    'Customer_Name' : 'unknown',\n",
    "    'Customer_Address' : 'unknown',\n",
    "    'Customer_City' : 'unknown',\n",
    "    'Customer_State' : 'unknown',\n",
    "    'Customer_Country' : 'unknown',\n",
    "    'Company' : 'unknown',\n",
    "    'Job_Title' : 'unknown',\n",
    "    'Email' : 'unknown',\n",
    "    'Phone_Number' : 'unknown',\n",
    "    'Credit_Card_Number' : 0,\n",
    "    'IBAN' : 'unknown',\n",
    "    'Currency_Code' : 'unknown',\n",
    "    'Random_Number' : 0.0,\n",
    "    'Category' : 'unknown',\n",
    "    'Group' : 'unknown',\n",
    "    'Is_Active' : 'unknown',\n",
    "    'Description' : 'unknown',\n",
    "    'Gender' : 'unknown',\n",
    "    'Marital_Status' : 'unknown'\n",
    "})\n",
    "\n"
   ]
  },
  {
   "cell_type": "code",
   "execution_count": 13,
   "metadata": {},
   "outputs": [
    {
     "name": "stdout",
     "output_type": "stream",
     "text": [
      "Transaction_Date Nulls 0\n",
      "Amount Nulls 0\n",
      "Transaction_Type Nulls 0\n",
      "Customer_Name Nulls 0\n",
      "Customer_Address Nulls 0\n",
      "Customer_City Nulls 0\n",
      "Customer_State Nulls 0\n",
      "Customer_Country Nulls 0\n",
      "Company Nulls 0\n",
      "Job_Title Nulls 0\n",
      "Email Nulls 0\n",
      "Phone_Number Nulls 0\n",
      "Credit_Card_Number Nulls 0\n",
      "IBAN Nulls 0\n",
      "Currency_Code Nulls 0\n",
      "Random_Number Nulls 0\n",
      "Category Nulls 0\n",
      "Group Nulls 0\n",
      "Is_Active Nulls 0\n",
      "Last_Updated Nulls 100321\n",
      "Description Nulls 0\n",
      "Gender Nulls 0\n",
      "Marital_Status Nulls 0\n"
     ]
    }
   ],
   "source": [
    "# check for null values\n",
    "for column in nuga_bank_df_clean.columns:\n",
    "    print(column,'Nulls',nuga_bank_df_clean.filter(nuga_bank_df_clean[column].isNull()).count())"
   ]
  },
  {
   "cell_type": "code",
   "execution_count": 14,
   "metadata": {},
   "outputs": [],
   "source": [
    "nuga_bank_df_clean = nuga_bank_df_clean.na.drop(subset=['Last_Updated'])"
   ]
  },
  {
   "cell_type": "code",
   "execution_count": 15,
   "metadata": {},
   "outputs": [
    {
     "data": {
      "text/plain": [
       "899679"
      ]
     },
     "execution_count": 15,
     "metadata": {},
     "output_type": "execute_result"
    }
   ],
   "source": [
    "num_rows = nuga_bank_df_clean.count()\n",
    "num_rows"
   ]
  },
  {
   "cell_type": "code",
   "execution_count": 16,
   "metadata": {},
   "outputs": [
    {
     "name": "stdout",
     "output_type": "stream",
     "text": [
      "+-------+------------------+----------------+-------------+--------------------+-------------+--------------+----------------+------------+------------------+-------------------+--------------------+--------------------+--------------------+-------------+-----------------+--------+-------+---------+--------------------+-------+--------------+\n",
      "|summary|            Amount|Transaction_Type|Customer_Name|    Customer_Address|Customer_City|Customer_State|Customer_Country|     Company|         Job_Title|              Email|        Phone_Number|  Credit_Card_Number|                IBAN|Currency_Code|    Random_Number|Category|  Group|Is_Active|         Description| Gender|Marital_Status|\n",
      "+-------+------------------+----------------+-------------+--------------------+-------------+--------------+----------------+------------+------------------+-------------------+--------------------+--------------------+--------------------+-------------+-----------------+--------+-------+---------+--------------------+-------+--------------+\n",
      "|  count|            899679|          899679|       899679|              899679|       899679|        899679|          899679|      899679|            899679|             899679|              899679|              899679|              899679|       899679|           899679|  899679| 899679|   899679|              899679| 899679|        899679|\n",
      "|   mean|505.10367708927123|            NULL|         NULL|                NULL|         NULL|          NULL|            NULL|        NULL|              NULL|               NULL| 6.002851385999521E9|3.409662226750533...|                NULL|         NULL|4952.920380491264|    NULL|   NULL|     NULL|                NULL|   NULL|          NULL|\n",
      "| stddev| 285.7945343300485|            NULL|         NULL|                NULL|         NULL|          NULL|            NULL|        NULL|              NULL|               NULL|2.3068371038619423E9|1.189655005733000...|                NULL|         NULL|2966.543401151591|    NULL|   NULL|     NULL|                NULL|   NULL|          NULL|\n",
      "|    min|              10.0|         Deposit| Aaron Abbott|000 Aaron Landing...|    Aaronberg|       Alabama|     Afghanistan|Abbott Group|Academic librarian|aabbott@example.com|       (200)201-4254|                   0|GB02AAAU191993009...|          AED|              0.0|       A|      X|       No|A American and to...| Female|      Divorced|\n",
      "|    max|            1000.0|      Withdrawal|      unknown|             unknown|      unknown|       unknown|         unknown|     unknown|           unknown|zzuniga@example.org|             unknown| 4999984361512569455|             unknown|      unknown|           9999.0| unknown|unknown|  unknown|             unknown|unknown|       unknown|\n",
      "+-------+------------------+----------------+-------------+--------------------+-------------+--------------+----------------+------------+------------------+-------------------+--------------------+--------------------+--------------------+-------------+-----------------+--------+-------+---------+--------------------+-------+--------------+\n",
      "\n"
     ]
    }
   ],
   "source": [
    "# to view the summary statistics of the data\n",
    "nuga_bank_df_clean.describe().show()"
   ]
  },
  {
   "cell_type": "code",
   "execution_count": 17,
   "metadata": {},
   "outputs": [
    {
     "data": {
      "text/plain": [
       "['Transaction_Date',\n",
       " 'Amount',\n",
       " 'Transaction_Type',\n",
       " 'Customer_Name',\n",
       " 'Customer_Address',\n",
       " 'Customer_City',\n",
       " 'Customer_State',\n",
       " 'Customer_Country',\n",
       " 'Company',\n",
       " 'Job_Title',\n",
       " 'Email',\n",
       " 'Phone_Number',\n",
       " 'Credit_Card_Number',\n",
       " 'IBAN',\n",
       " 'Currency_Code',\n",
       " 'Random_Number',\n",
       " 'Category',\n",
       " 'Group',\n",
       " 'Is_Active',\n",
       " 'Last_Updated',\n",
       " 'Description',\n",
       " 'Gender',\n",
       " 'Marital_Status']"
      ]
     },
     "execution_count": 17,
     "metadata": {},
     "output_type": "execute_result"
    }
   ],
   "source": [
    "nuga_bank_df_clean.columns"
   ]
  },
  {
   "cell_type": "code",
   "execution_count": 18,
   "metadata": {},
   "outputs": [],
   "source": [
    "# trransaction table\n",
    "transaction =nuga_bank_df_clean.select('Transaction_Date',\n",
    "'Amount',\n",
    " 'Transaction_Type')"
   ]
  },
  {
   "cell_type": "code",
   "execution_count": 19,
   "metadata": {},
   "outputs": [
    {
     "name": "stdout",
     "output_type": "stream",
     "text": [
      "+--------------------+------+----------------+\n",
      "|    Transaction_Date|Amount|Transaction_Type|\n",
      "+--------------------+------+----------------+\n",
      "|2024-03-23 15:38:...| 34.76|      Withdrawal|\n",
      "|2024-04-22 19:15:...|163.92|      Withdrawal|\n",
      "|2024-04-12 19:46:...|386.32|      Withdrawal|\n",
      "|2024-04-17 15:29:...|407.15|         Deposit|\n",
      "|2024-02-10 01:51:...|161.31|         Deposit|\n",
      "|2024-02-10 22:56:...|764.34|        Transfer|\n",
      "|2024-04-07 00:07:...|734.59|         Deposit|\n",
      "|2024-03-08 01:51:...|592.43|         Deposit|\n",
      "|2024-02-01 12:34:...| 927.1|         Deposit|\n",
      "|2024-03-22 16:46:...| 66.59|        Transfer|\n",
      "|2024-04-23 13:30:...| 246.3|      Withdrawal|\n",
      "|2024-01-13 01:22:...|782.32|      Withdrawal|\n",
      "|2024-02-25 15:16:...|818.42|      Withdrawal|\n",
      "|2024-01-01 20:55:...|352.23|      Withdrawal|\n",
      "|2024-01-19 00:01:...|316.19|      Withdrawal|\n",
      "|2024-04-09 14:40:...|662.26|      Withdrawal|\n",
      "|2024-04-15 04:58:...|893.73|         Deposit|\n",
      "|2024-04-12 14:32:...|746.22|      Withdrawal|\n",
      "|2024-02-26 14:43:...|214.77|      Withdrawal|\n",
      "|2024-01-17 14:50:...|726.94|      Withdrawal|\n",
      "+--------------------+------+----------------+\n",
      "only showing top 20 rows\n",
      "\n"
     ]
    }
   ],
   "source": [
    "transaction.show()"
   ]
  },
  {
   "cell_type": "code",
   "execution_count": 20,
   "metadata": {},
   "outputs": [],
   "source": [
    "## to add the transaction_id column\n",
    "transaction = transaction.withColumn('transaction_id',monotonically_increasing_id())"
   ]
  },
  {
   "cell_type": "code",
   "execution_count": 21,
   "metadata": {},
   "outputs": [
    {
     "name": "stdout",
     "output_type": "stream",
     "text": [
      "+--------------------+------+----------------+--------------+\n",
      "|    Transaction_Date|Amount|Transaction_Type|transaction_id|\n",
      "+--------------------+------+----------------+--------------+\n",
      "|2024-03-23 15:38:...| 34.76|      Withdrawal|             0|\n",
      "|2024-04-22 19:15:...|163.92|      Withdrawal|             1|\n",
      "|2024-04-12 19:46:...|386.32|      Withdrawal|             2|\n",
      "|2024-04-17 15:29:...|407.15|         Deposit|             3|\n",
      "|2024-02-10 01:51:...|161.31|         Deposit|             4|\n",
      "|2024-02-10 22:56:...|764.34|        Transfer|             5|\n",
      "|2024-04-07 00:07:...|734.59|         Deposit|             6|\n",
      "|2024-03-08 01:51:...|592.43|         Deposit|             7|\n",
      "|2024-02-01 12:34:...| 927.1|         Deposit|             8|\n",
      "|2024-03-22 16:46:...| 66.59|        Transfer|             9|\n",
      "|2024-04-23 13:30:...| 246.3|      Withdrawal|            10|\n",
      "|2024-01-13 01:22:...|782.32|      Withdrawal|            11|\n",
      "|2024-02-25 15:16:...|818.42|      Withdrawal|            12|\n",
      "|2024-01-01 20:55:...|352.23|      Withdrawal|            13|\n",
      "|2024-01-19 00:01:...|316.19|      Withdrawal|            14|\n",
      "|2024-04-09 14:40:...|662.26|      Withdrawal|            15|\n",
      "|2024-04-15 04:58:...|893.73|         Deposit|            16|\n",
      "|2024-04-12 14:32:...|746.22|      Withdrawal|            17|\n",
      "|2024-02-26 14:43:...|214.77|      Withdrawal|            18|\n",
      "|2024-01-17 14:50:...|726.94|      Withdrawal|            19|\n",
      "+--------------------+------+----------------+--------------+\n",
      "only showing top 20 rows\n",
      "\n"
     ]
    }
   ],
   "source": [
    "transaction.show()"
   ]
  },
  {
   "cell_type": "code",
   "execution_count": 22,
   "metadata": {},
   "outputs": [],
   "source": [
    "# to rearrange transaction\n",
    "transaction = transaction.select('transaction_id','Transaction_Date',\n",
    " 'Amount','Transaction_Type')"
   ]
  },
  {
   "cell_type": "code",
   "execution_count": 23,
   "metadata": {},
   "outputs": [
    {
     "name": "stdout",
     "output_type": "stream",
     "text": [
      "+--------------+--------------------+------+----------------+\n",
      "|transaction_id|    Transaction_Date|Amount|Transaction_Type|\n",
      "+--------------+--------------------+------+----------------+\n",
      "|             0|2024-03-23 15:38:...| 34.76|      Withdrawal|\n",
      "|             1|2024-04-22 19:15:...|163.92|      Withdrawal|\n",
      "|             2|2024-04-12 19:46:...|386.32|      Withdrawal|\n",
      "|             3|2024-04-17 15:29:...|407.15|         Deposit|\n",
      "|             4|2024-02-10 01:51:...|161.31|         Deposit|\n",
      "|             5|2024-02-10 22:56:...|764.34|        Transfer|\n",
      "|             6|2024-04-07 00:07:...|734.59|         Deposit|\n",
      "|             7|2024-03-08 01:51:...|592.43|         Deposit|\n",
      "|             8|2024-02-01 12:34:...| 927.1|         Deposit|\n",
      "|             9|2024-03-22 16:46:...| 66.59|        Transfer|\n",
      "|            10|2024-04-23 13:30:...| 246.3|      Withdrawal|\n",
      "|            11|2024-01-13 01:22:...|782.32|      Withdrawal|\n",
      "|            12|2024-02-25 15:16:...|818.42|      Withdrawal|\n",
      "|            13|2024-01-01 20:55:...|352.23|      Withdrawal|\n",
      "|            14|2024-01-19 00:01:...|316.19|      Withdrawal|\n",
      "|            15|2024-04-09 14:40:...|662.26|      Withdrawal|\n",
      "|            16|2024-04-15 04:58:...|893.73|         Deposit|\n",
      "|            17|2024-04-12 14:32:...|746.22|      Withdrawal|\n",
      "|            18|2024-02-26 14:43:...|214.77|      Withdrawal|\n",
      "|            19|2024-01-17 14:50:...|726.94|      Withdrawal|\n",
      "+--------------+--------------------+------+----------------+\n",
      "only showing top 20 rows\n",
      "\n"
     ]
    }
   ],
   "source": [
    "transaction.show()"
   ]
  },
  {
   "cell_type": "code",
   "execution_count": 24,
   "metadata": {},
   "outputs": [],
   "source": [
    "customer =nuga_bank_df_clean.select('Customer_Name','Customer_Address','Customer_City','Customer_State','Customer_Country', 'Email',\n",
    " 'Phone_Number')"
   ]
  },
  {
   "cell_type": "code",
   "execution_count": 25,
   "metadata": {},
   "outputs": [
    {
     "name": "stdout",
     "output_type": "stream",
     "text": [
      "+-----------------+--------------------+--------------------+--------------+--------------------+--------------------+-------------------+\n",
      "|    Customer_Name|    Customer_Address|       Customer_City|Customer_State|    Customer_Country|               Email|       Phone_Number|\n",
      "+-----------------+--------------------+--------------------+--------------+--------------------+--------------------+-------------------+\n",
      "|       James Neal|54912 Holmes Lodg...|   West Keithborough|       Florida|                Togo|             unknown|  493.720.6609x7545|\n",
      "|      Thomas Long| 1133 Collin Passage|          Joshuabury|   Connecticut|Lao People's Demo...|michellelynch@exa...|      (497)554-3317|\n",
      "|   Ashley Shelton|5297 Johnson Port...|         North Maria|    New Jersey|              Bhutan| ljordan@example.org|      (534)769-3072|\n",
      "|    James Rosario|56955 Moore Glens...|  North Michellefurt|    New Mexico|             Iceland|parkerjames@examp...|+1-447-900-1320x257|\n",
      "|   Miguel Leonard|262 Beck Expressw...|             unknown| West Virginia|             Eritrea| zweaver@example.net|            unknown|\n",
      "|      Jesse Clark|      194 Derek Burg|        Wallacemouth|    New Mexico|             Estonia|benjaminwalker@ex...|   229-511-2530x870|\n",
      "|       Mark Estes|4077 James Lane A...|      Williamsonport|      Michigan|Antarctica (the t...|karenrobinson@exa...|      (840)334-1610|\n",
      "|       Kelly Ruiz|             unknown|          New Lauren|       unknown|             unknown|  iestes@example.org| 495.430.4276x42618|\n",
      "|        Brad Yang|    579 Nolan Harbor|South Christopher...|  South Dakota|             unknown|maryduran@example...|  (241)738-0972x658|\n",
      "|   Dalton Jimenez|4330 Christine Vista|        Port Kirsten|       unknown|            Cameroon|             unknown|       670-499-0309|\n",
      "|   Paige Sheppard|0947 Mendez Under...|          Medinastad|North Carolina|             Iceland|  eric64@example.net|            unknown|\n",
      "|   Stephen Nguyen|    01696 Brown Cape|          South Mary|       Wyoming|Heard Island and ...|stewartjames@exam...|  680-460-3674x6031|\n",
      "|    Renee Roberts|7591 Ponce Unions...|          Amandaside| Massachusetts|            Barbados|             unknown|       695-680-5744|\n",
      "|Jacqueline Thomas|172 Morse Falls A...|         Bennettbury|      Oklahoma|                Fiji|  mark84@example.com| 484.837.6166x81262|\n",
      "|     Joseph Pratt|71283 Thomas Port...|        Lake Michele|        Nevada|     Kyrgyz Republic|robert02@example.com| 623.219.7997x39012|\n",
      "|        Tara Gray|    3476 Johnny Loaf|     South Davidland|     Tennessee|               Tonga|ewilliams@example...|            unknown|\n",
      "|  Dominique Lynch|   181 Gregory Ferry|           Jamesfort|         Maine|               Kenya|suzanne41@example...|       448-821-0207|\n",
      "|      Sarah Brown|    4645 Smith Drive|        Arellanobury|   Mississippi|             Mayotte|sullivandiane@exa...|(643)844-2202x42284|\n",
      "|    Michael Brown|94463 Novak Turnp...|        North Robert|       unknown|             Somalia|elliserica@exampl...|   214-650-4477x630|\n",
      "|     Tamara Clark|   4902 Torres Ports|        Bridgesmouth|     Tennessee|        Turkmenistan|annerice@example.com|  (528)927-0111x373|\n",
      "+-----------------+--------------------+--------------------+--------------+--------------------+--------------------+-------------------+\n",
      "only showing top 20 rows\n",
      "\n"
     ]
    }
   ],
   "source": [
    "customer.show()"
   ]
  },
  {
   "cell_type": "code",
   "execution_count": 28,
   "metadata": {},
   "outputs": [],
   "source": [
    "# to add column \n",
    "customer = customer.withColumn('customer_id',monotonically_increasing_id())"
   ]
  },
  {
   "cell_type": "code",
   "execution_count": 31,
   "metadata": {},
   "outputs": [
    {
     "name": "stdout",
     "output_type": "stream",
     "text": [
      "+-----------+-----------------+--------------------+--------------------+--------------+--------------------+--------------------+-------------------+\n",
      "|customer_id|    Customer_Name|    Customer_Address|       Customer_City|Customer_State|    Customer_Country|               Email|       Phone_Number|\n",
      "+-----------+-----------------+--------------------+--------------------+--------------+--------------------+--------------------+-------------------+\n",
      "|          0|       James Neal|54912 Holmes Lodg...|   West Keithborough|       Florida|                Togo|             unknown|  493.720.6609x7545|\n",
      "|          1|      Thomas Long| 1133 Collin Passage|          Joshuabury|   Connecticut|Lao People's Demo...|michellelynch@exa...|      (497)554-3317|\n",
      "|          2|   Ashley Shelton|5297 Johnson Port...|         North Maria|    New Jersey|              Bhutan| ljordan@example.org|      (534)769-3072|\n",
      "|          3|    James Rosario|56955 Moore Glens...|  North Michellefurt|    New Mexico|             Iceland|parkerjames@examp...|+1-447-900-1320x257|\n",
      "|          4|   Miguel Leonard|262 Beck Expressw...|             unknown| West Virginia|             Eritrea| zweaver@example.net|            unknown|\n",
      "|          5|      Jesse Clark|      194 Derek Burg|        Wallacemouth|    New Mexico|             Estonia|benjaminwalker@ex...|   229-511-2530x870|\n",
      "|          6|       Mark Estes|4077 James Lane A...|      Williamsonport|      Michigan|Antarctica (the t...|karenrobinson@exa...|      (840)334-1610|\n",
      "|          7|       Kelly Ruiz|             unknown|          New Lauren|       unknown|             unknown|  iestes@example.org| 495.430.4276x42618|\n",
      "|          8|        Brad Yang|    579 Nolan Harbor|South Christopher...|  South Dakota|             unknown|maryduran@example...|  (241)738-0972x658|\n",
      "|          9|   Dalton Jimenez|4330 Christine Vista|        Port Kirsten|       unknown|            Cameroon|             unknown|       670-499-0309|\n",
      "|         10|   Paige Sheppard|0947 Mendez Under...|          Medinastad|North Carolina|             Iceland|  eric64@example.net|            unknown|\n",
      "|         11|   Stephen Nguyen|    01696 Brown Cape|          South Mary|       Wyoming|Heard Island and ...|stewartjames@exam...|  680-460-3674x6031|\n",
      "|         12|    Renee Roberts|7591 Ponce Unions...|          Amandaside| Massachusetts|            Barbados|             unknown|       695-680-5744|\n",
      "|         13|Jacqueline Thomas|172 Morse Falls A...|         Bennettbury|      Oklahoma|                Fiji|  mark84@example.com| 484.837.6166x81262|\n",
      "|         14|     Joseph Pratt|71283 Thomas Port...|        Lake Michele|        Nevada|     Kyrgyz Republic|robert02@example.com| 623.219.7997x39012|\n",
      "|         15|        Tara Gray|    3476 Johnny Loaf|     South Davidland|     Tennessee|               Tonga|ewilliams@example...|            unknown|\n",
      "|         16|  Dominique Lynch|   181 Gregory Ferry|           Jamesfort|         Maine|               Kenya|suzanne41@example...|       448-821-0207|\n",
      "|         17|      Sarah Brown|    4645 Smith Drive|        Arellanobury|   Mississippi|             Mayotte|sullivandiane@exa...|(643)844-2202x42284|\n",
      "|         18|    Michael Brown|94463 Novak Turnp...|        North Robert|       unknown|             Somalia|elliserica@exampl...|   214-650-4477x630|\n",
      "|         19|     Tamara Clark|   4902 Torres Ports|        Bridgesmouth|     Tennessee|        Turkmenistan|annerice@example.com|  (528)927-0111x373|\n",
      "+-----------+-----------------+--------------------+--------------------+--------------+--------------------+--------------------+-------------------+\n",
      "only showing top 20 rows\n",
      "\n"
     ]
    }
   ],
   "source": [
    "customer.show()"
   ]
  },
  {
   "cell_type": "code",
   "execution_count": 30,
   "metadata": {},
   "outputs": [],
   "source": [
    "# to rearrange customer \n",
    "customer = customer.select('customer_id','Customer_Name','Customer_Address','Customer_City','Customer_State','Customer_Country', 'Email',\n",
    " 'Phone_Number') "
   ]
  },
  {
   "cell_type": "code",
   "execution_count": 32,
   "metadata": {},
   "outputs": [],
   "source": [
    "employee =nuga_bank_df_clean.select('Company','Job_Title', 'Gender','Marital_Status')"
   ]
  },
  {
   "cell_type": "code",
   "execution_count": 33,
   "metadata": {},
   "outputs": [
    {
     "name": "stdout",
     "output_type": "stream",
     "text": [
      "+--------------------+--------------------+-------+--------------+\n",
      "|             Company|           Job_Title| Gender|Marital_Status|\n",
      "+--------------------+--------------------+-------+--------------+\n",
      "|Benson, Johnson a...|             unknown|  Other|      Divorced|\n",
      "|             unknown|   Food technologist| Female|       Married|\n",
      "|       Jones-Mueller|Database administ...|  Other|       unknown|\n",
      "|       Vargas-Harris|Horticultural the...|unknown|       unknown|\n",
      "|Richardson, Gonza...|   Minerals surveyor| Female|       Married|\n",
      "|           Smith Ltd| Seismic interpreter|  Other|       Married|\n",
      "|         Wade-Kelley|  Surveyor, minerals|   Male|       unknown|\n",
      "|             unknown|Medical laborator...| Female|        Single|\n",
      "|         Lindsey LLC|Programmer, appli...| Female|        Single|\n",
      "|         Carroll LLC|             unknown|   Male|        Single|\n",
      "|             unknown|     Sales executive|   Male|      Divorced|\n",
      "|Lynch, Hayes and ...|       Stage manager|unknown|       Married|\n",
      "|           Green Ltd|Psychologist, pri...|   Male|       unknown|\n",
      "|             unknown|Designer, blown g...| Female|        Single|\n",
      "|     Morris-Reynolds|          Podiatrist|  Other|       Married|\n",
      "|         Sutton-Owen|   Financial planner|  Other|       Married|\n",
      "|         Brown Group|Nutritional thera...|  Other|       Married|\n",
      "|         Scott Group|     Games developer|  Other|       Married|\n",
      "|Bryant, Huffman a...|Research scientis...|  Other|       Married|\n",
      "|          Palmer PLC|             unknown|   Male|      Divorced|\n",
      "+--------------------+--------------------+-------+--------------+\n",
      "only showing top 20 rows\n",
      "\n"
     ]
    }
   ],
   "source": [
    "employee.show()"
   ]
  },
  {
   "cell_type": "code",
   "execution_count": 34,
   "metadata": {},
   "outputs": [],
   "source": [
    "# to add column\n",
    "employee = employee.withColumn('employee_id',monotonically_increasing_id())"
   ]
  },
  {
   "cell_type": "code",
   "execution_count": 35,
   "metadata": {},
   "outputs": [
    {
     "name": "stdout",
     "output_type": "stream",
     "text": [
      "+--------------------+--------------------+-------+--------------+-----------+\n",
      "|             Company|           Job_Title| Gender|Marital_Status|employee_id|\n",
      "+--------------------+--------------------+-------+--------------+-----------+\n",
      "|Benson, Johnson a...|             unknown|  Other|      Divorced|          0|\n",
      "|             unknown|   Food technologist| Female|       Married|          1|\n",
      "|       Jones-Mueller|Database administ...|  Other|       unknown|          2|\n",
      "|       Vargas-Harris|Horticultural the...|unknown|       unknown|          3|\n",
      "|Richardson, Gonza...|   Minerals surveyor| Female|       Married|          4|\n",
      "|           Smith Ltd| Seismic interpreter|  Other|       Married|          5|\n",
      "|         Wade-Kelley|  Surveyor, minerals|   Male|       unknown|          6|\n",
      "|             unknown|Medical laborator...| Female|        Single|          7|\n",
      "|         Lindsey LLC|Programmer, appli...| Female|        Single|          8|\n",
      "|         Carroll LLC|             unknown|   Male|        Single|          9|\n",
      "|             unknown|     Sales executive|   Male|      Divorced|         10|\n",
      "|Lynch, Hayes and ...|       Stage manager|unknown|       Married|         11|\n",
      "|           Green Ltd|Psychologist, pri...|   Male|       unknown|         12|\n",
      "|             unknown|Designer, blown g...| Female|        Single|         13|\n",
      "|     Morris-Reynolds|          Podiatrist|  Other|       Married|         14|\n",
      "|         Sutton-Owen|   Financial planner|  Other|       Married|         15|\n",
      "|         Brown Group|Nutritional thera...|  Other|       Married|         16|\n",
      "|         Scott Group|     Games developer|  Other|       Married|         17|\n",
      "|Bryant, Huffman a...|Research scientis...|  Other|       Married|         18|\n",
      "|          Palmer PLC|             unknown|   Male|      Divorced|         19|\n",
      "+--------------------+--------------------+-------+--------------+-----------+\n",
      "only showing top 20 rows\n",
      "\n"
     ]
    }
   ],
   "source": [
    "employee.show()"
   ]
  },
  {
   "cell_type": "code",
   "execution_count": 36,
   "metadata": {},
   "outputs": [],
   "source": [
    "# to rearrange employee\n",
    "employee = employee.select('employee_id','Company','Job_Title', 'Gender','Marital_Status')"
   ]
  },
  {
   "cell_type": "code",
   "execution_count": 37,
   "metadata": {},
   "outputs": [
    {
     "name": "stdout",
     "output_type": "stream",
     "text": [
      "+-----------+--------------------+--------------------+-------+--------------+\n",
      "|employee_id|             Company|           Job_Title| Gender|Marital_Status|\n",
      "+-----------+--------------------+--------------------+-------+--------------+\n",
      "|          0|Benson, Johnson a...|             unknown|  Other|      Divorced|\n",
      "|          1|             unknown|   Food technologist| Female|       Married|\n",
      "|          2|       Jones-Mueller|Database administ...|  Other|       unknown|\n",
      "|          3|       Vargas-Harris|Horticultural the...|unknown|       unknown|\n",
      "|          4|Richardson, Gonza...|   Minerals surveyor| Female|       Married|\n",
      "|          5|           Smith Ltd| Seismic interpreter|  Other|       Married|\n",
      "|          6|         Wade-Kelley|  Surveyor, minerals|   Male|       unknown|\n",
      "|          7|             unknown|Medical laborator...| Female|        Single|\n",
      "|          8|         Lindsey LLC|Programmer, appli...| Female|        Single|\n",
      "|          9|         Carroll LLC|             unknown|   Male|        Single|\n",
      "|         10|             unknown|     Sales executive|   Male|      Divorced|\n",
      "|         11|Lynch, Hayes and ...|       Stage manager|unknown|       Married|\n",
      "|         12|           Green Ltd|Psychologist, pri...|   Male|       unknown|\n",
      "|         13|             unknown|Designer, blown g...| Female|        Single|\n",
      "|         14|     Morris-Reynolds|          Podiatrist|  Other|       Married|\n",
      "|         15|         Sutton-Owen|   Financial planner|  Other|       Married|\n",
      "|         16|         Brown Group|Nutritional thera...|  Other|       Married|\n",
      "|         17|         Scott Group|     Games developer|  Other|       Married|\n",
      "|         18|Bryant, Huffman a...|Research scientis...|  Other|       Married|\n",
      "|         19|          Palmer PLC|             unknown|   Male|      Divorced|\n",
      "+-----------+--------------------+--------------------+-------+--------------+\n",
      "only showing top 20 rows\n",
      "\n"
     ]
    }
   ],
   "source": [
    "employee.show()"
   ]
  },
  {
   "cell_type": "code",
   "execution_count": 41,
   "metadata": {},
   "outputs": [],
   "source": [
    "fact_table = nuga_bank_df_clean.join(customer,['Customer_Name','Customer_Address','Customer_City','Customer_State','Customer_Country', 'Email',\n",
    " 'Phone_Number'],'left')\\\n",
    "    .join(transaction,['Transaction_Date','Amount','Transaction_Type'],'left')\\\n",
    "    .join(employee,['Company','Job_Title', 'Gender','Marital_Status'],'left')\\\n",
    "    .select('transaction_id','customer_id','employee_id','Credit_Card_Number','IBAN', 'Currency_Code','Random_Number',\\\n",
    "            'Category','Group','Is_Active','Last_Updated','Description',)\n",
    " "
   ]
  },
  {
   "cell_type": "code",
   "execution_count": 42,
   "metadata": {},
   "outputs": [
    {
     "name": "stdout",
     "output_type": "stream",
     "text": [
      "+--------------+-----------+-----------+-------------------+--------------------+-------------+-------------+--------+-------+---------+--------------------+--------------------+\n",
      "|transaction_id|customer_id|employee_id| Credit_Card_Number|                IBAN|Currency_Code|Random_Number|Category|  Group|Is_Active|        Last_Updated|         Description|\n",
      "+--------------+-----------+-----------+-------------------+--------------------+-------------+-------------+--------+-------+---------+--------------------+--------------------+\n",
      "|   17179869198|17179869198|17179869198|    180067592769732|GB92JVMY004197871...|          EGP|       7198.0|       A|      Z|      Yes|2023-10-12 22:25:...|Before story prof...|\n",
      "|            18|         18|         18|    213112163828334|GB50TJFN039979307...|          SVC|       7382.0|       B|      Z|      Yes|2020-01-19 18:19:...|Great evening so ...|\n",
      "|   17179869199|17179869199|17179869199|   4239162655922295|GB96MEEY268453596...|          BTN|       5605.0|       D|      Z|       No|2020-03-22 00:53:...|Visit present reg...|\n",
      "|    8589934592| 8589934592| 8589934592|    213133896337542|GB07IUUE487965913...|          ISK|          0.0|       D|      Y|       No|2023-08-16 10:32:...|Themselves make ago.|\n",
      "|            12|         12|         12|   6011259703732723|GB34HWCA758164830...|          AFN|       4452.0|       C|unknown|       No|2023-07-09 08:03:...|Program sense arm...|\n",
      "|   25769803778|25769803778|25769803778|   5388658592185363|GB09MHOG513401686...|          NIS|       4609.0|       C|      Z|       No|2021-11-19 11:47:...|             unknown|\n",
      "|            20|         20|         20|    213186454811670|GB77SPMZ984195063...|          SOS|       7610.0|       C|      X|       No|2021-04-15 13:30:...|Concern remember ...|\n",
      "|    8589934601| 8589934601| 8589934601|   6011177559558424|GB76DNER497098023...|          BZD|       6499.0|       D|      X|  unknown|2020-02-09 13:11:...|Risk take recent ...|\n",
      "|   25769803790|25769803790|25769803790|   6574717409681808|GB58ZWIH992989778...|          LSL|          0.0|       B|      Y|       No|2021-11-04 10:41:...|Any state recogni...|\n",
      "|   17179869184|17179869184|17179869184|     38737697224239|GB44WJZF814413539...|          JMD|       8569.0|       C|      Z|  unknown|2021-01-25 12:59:...|             unknown|\n",
      "|             8|          8|          8|    180039947294310|GB48WNWB013807482...|          HRK|       3061.0|       B|      X|       No|2020-08-31 20:40:...|Notice paper son ...|\n",
      "|    8589934605| 8589934605| 8589934605|    213123497507940|GB61RQDC156293863...|          GBP|          0.0|       B|      Z|      Yes|2023-01-29 06:25:...|    Plant very name.|\n",
      "|   17179869197|17179869197|17179869197|       639006216746|GB81CQQR004909975...|      unknown|       8199.0|       B|      Y|       No|2024-03-31 18:51:...|Try step sound. B...|\n",
      "|   17179869204|17179869204|17179869204|      4559268055614|             unknown|          BBD|       5380.0|       D|      Y|       No|2024-04-16 14:15:...|Central improve q...|\n",
      "|            19|         19|         19|        60430636658|GB86TNQV819996269...|          HTG|       9638.0|       B|      X|      Yes|2022-12-17 17:06:...|Throw fill attent...|\n",
      "|    8589934610| 8589934610| 8589934610|                  0|GB79VCXM025662145...|          SPL|       7594.0|       D|      X|      Yes|2021-06-26 14:31:...|Fall report stay ...|\n",
      "|    8589934594| 8589934594| 8589934594|   4446095865473916|GB24AWUC828521792...|          MRO|       6536.0|       D|      Z|       No|2020-04-09 23:10:...|Gun media after n...|\n",
      "|             3|          3|          3|      4761202519057|GB74FTDO268299438...|          BWP|       6284.0|       C|      Z|      Yes|2023-09-27 03:01:...|     Bag my a drive.|\n",
      "|             6|          6|          6|4543690154172468535|GB55FCPC779828821...|          CAD|       7304.0|       A|      X|      Yes|2020-10-27 16:48:...|Standard prepare ...|\n",
      "|   25769803789|25769803789| 8589959356|   6011153251503935|GB28FTRX421798999...|          CHF|       1792.0|       C|      Z|      Yes|2020-07-14 19:25:...|Compare sell bank...|\n",
      "+--------------+-----------+-----------+-------------------+--------------------+-------------+-------------+--------+-------+---------+--------------------+--------------------+\n",
      "only showing top 20 rows\n",
      "\n"
     ]
    }
   ],
   "source": [
    "fact_table.show()"
   ]
  },
  {
   "cell_type": "code",
   "execution_count": null,
   "metadata": {},
   "outputs": [],
   "source": [
    "#outputting the transformed data to parquet file\n",
    "transaction.write.mode('overwrite').parquet(r'dataset/transaction')\n",
    "employee.write.mode('overwrite').parquet(r'dataset/employee')\n",
    "customer.write.mode('overwrite').parquet(r'dataset/customer')\n",
    "fact_table.write.mode('overwrite').parquet(r'dataset/fact_table')\n"
   ]
  }
 ],
 "metadata": {
  "kernelspec": {
   "display_name": "nugabankenv",
   "language": "python",
   "name": "python3"
  },
  "language_info": {
   "codemirror_mode": {
    "name": "ipython",
    "version": 3
   },
   "file_extension": ".py",
   "mimetype": "text/x-python",
   "name": "python",
   "nbconvert_exporter": "python",
   "pygments_lexer": "ipython3",
   "version": "3.9.21"
  }
 },
 "nbformat": 4,
 "nbformat_minor": 2
}
